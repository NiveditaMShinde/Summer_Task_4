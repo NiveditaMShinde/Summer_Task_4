{
 "cells": [
  {
   "cell_type": "code",
   "execution_count": 1,
   "id": "4b67f4cd",
   "metadata": {},
   "outputs": [],
   "source": [
    "#Task 4.1\n",
    "#Create a simple image with Python Code"
   ]
  },
  {
   "cell_type": "code",
   "execution_count": 6,
   "id": "d1c46588",
   "metadata": {},
   "outputs": [],
   "source": [
    "import numpy as np\n",
    "import cv2\n",
    "from PIL import Image, ImageDraw"
   ]
  },
  {
   "cell_type": "code",
   "execution_count": 7,
   "id": "b23e8f04",
   "metadata": {},
   "outputs": [],
   "source": [
    "#Creating a image with plane background\n",
    "\n",
    "image = Image.new('RGB', (400, 300), (200, 100, 200))\n",
    "draw = ImageDraw.Draw(image)"
   ]
  },
  {
   "cell_type": "code",
   "execution_count": 8,
   "id": "2832ee11",
   "metadata": {},
   "outputs": [],
   "source": [
    "image.show()"
   ]
  },
  {
   "cell_type": "code",
   "execution_count": 9,
   "id": "03ec835b",
   "metadata": {},
   "outputs": [],
   "source": [
    "#Task 4.2\n",
    "#Take 2 images, crop some part of both the images and swap them"
   ]
  },
  {
   "cell_type": "code",
   "execution_count": 10,
   "id": "5c7ba3ac",
   "metadata": {},
   "outputs": [],
   "source": [
    "#Reading images\n",
    "\n",
    "image1 = cv2.imread(\"Task_img_1.jpg\")\n",
    "image2 = cv2.imread(\"Task_img_2.jpg\")"
   ]
  },
  {
   "cell_type": "code",
   "execution_count": 11,
   "id": "e68409b0",
   "metadata": {},
   "outputs": [],
   "source": [
    "#Displaying 1st image\n",
    "\n",
    "cv2.imshow(\"im1\",image1)\n",
    "cv2.waitKey()\n",
    "cv2.destroyAllWindows()"
   ]
  },
  {
   "cell_type": "code",
   "execution_count": 13,
   "id": "05658458",
   "metadata": {},
   "outputs": [],
   "source": [
    "#Displaying 2nd image\n",
    "\n",
    "cv2.imshow(\"im1\",image2)\n",
    "cv2.waitKey()\n",
    "cv2.destroyAllWindows()"
   ]
  },
  {
   "cell_type": "code",
   "execution_count": 17,
   "id": "32e9d9e3",
   "metadata": {},
   "outputs": [],
   "source": [
    "#Crop some part of 1st image\n",
    "\n",
    "crop1 = image1[5:180,50:180]\n",
    "cv2.imshow(\"cropn1\",crop1)\n",
    "cv2.waitKey()\n",
    "cv2.destroyAllWindows()"
   ]
  },
  {
   "cell_type": "code",
   "execution_count": 18,
   "id": "302c8ba9",
   "metadata": {},
   "outputs": [],
   "source": [
    "#Crop some part of 2nd image and display them\n",
    "\n",
    "image1 = cv2.imread(\"Task_img_1.jpg\")\n",
    "image2 = cv2.imread(\"Task_img_2.jpg\")\n",
    "crop2 = image2[5:180,50:180]\n",
    "cv2.imshow(\"cropn2\",crop2)\n",
    "cv2.waitKey()\n",
    "cv2.destroyAllWindows()"
   ]
  },
  {
   "cell_type": "code",
   "execution_count": 27,
   "id": "82e1b417",
   "metadata": {},
   "outputs": [
    {
     "data": {
      "text/plain": [
       "(175, 130, 3)"
      ]
     },
     "execution_count": 27,
     "metadata": {},
     "output_type": "execute_result"
    }
   ],
   "source": [
    "#First crop both the images in same size\n",
    "\n",
    "crop1.shape"
   ]
  },
  {
   "cell_type": "code",
   "execution_count": 28,
   "id": "8e361422",
   "metadata": {},
   "outputs": [
    {
     "data": {
      "text/plain": [
       "(175, 130, 3)"
      ]
     },
     "execution_count": 28,
     "metadata": {},
     "output_type": "execute_result"
    }
   ],
   "source": [
    "crop2.shape"
   ]
  },
  {
   "cell_type": "code",
   "execution_count": 37,
   "id": "774521cd",
   "metadata": {},
   "outputs": [],
   "source": [
    "#Swapping cropped images\n",
    "\n",
    "image1[5:180,50:180] = crop2\n",
    "image2[5:180,50:180] = crop1"
   ]
  },
  {
   "cell_type": "code",
   "execution_count": 38,
   "id": "829ff824",
   "metadata": {},
   "outputs": [],
   "source": [
    "#1st new image\n",
    "\n",
    "cv2.imshow(\"n1\",image1)\n",
    "cv2.waitKey()\n",
    "cv2.destroyAllWindows()"
   ]
  },
  {
   "cell_type": "code",
   "execution_count": 39,
   "id": "d02aa774",
   "metadata": {},
   "outputs": [],
   "source": [
    "#2nd new image\n",
    "\n",
    "cv2.imshow(\"n2\",image2)\n",
    "cv2.waitKey()\n",
    "cv2.destroyAllWindows()"
   ]
  },
  {
   "cell_type": "code",
   "execution_count": null,
   "id": "cdfadd9d",
   "metadata": {},
   "outputs": [],
   "source": []
  },
  {
   "cell_type": "code",
   "execution_count": 69,
   "id": "3783e777",
   "metadata": {},
   "outputs": [],
   "source": [
    "#Task 4.3\n",
    "#Framing a collage"
   ]
  },
  {
   "cell_type": "code",
   "execution_count": 70,
   "id": "8beaf17b",
   "metadata": {},
   "outputs": [],
   "source": [
    "#Reading images\n",
    "\n",
    "image1 = cv2.imread(\"Task_img_1.jpg\")\n",
    "image2 = cv2.imread(\"Task_img_2.jpg\")"
   ]
  },
  {
   "cell_type": "code",
   "execution_count": 71,
   "id": "78162dd3",
   "metadata": {},
   "outputs": [],
   "source": [
    "#Cropping and displaying 1st image\n",
    "\n",
    "image1 = image1[5:200,50:180]\n",
    "cv2.imshow(\"im1\",image1)\n",
    "cv2.waitKey()\n",
    "cv2.destroyAllWindows()"
   ]
  },
  {
   "cell_type": "code",
   "execution_count": 72,
   "id": "6cc308a0",
   "metadata": {},
   "outputs": [],
   "source": [
    "#Cropping and displaying 2st image\n",
    "\n",
    "image2 = image2[5:200,50:180] \n",
    "cv2.imshow(\"im2\",image2)\n",
    "cv2.waitKey()\n",
    "cv2.destroyAllWindows()"
   ]
  },
  {
   "cell_type": "code",
   "execution_count": 73,
   "id": "12d554f6",
   "metadata": {},
   "outputs": [],
   "source": [
    "#Horizontal collage\n",
    "\n",
    "collage_image = np.hstack((image1,image2))\n",
    "cv2.imshow(\"Final\",collage_image)\n",
    "cv2.waitKey()\n",
    "cv2.destroyAllWindows()"
   ]
  },
  {
   "cell_type": "code",
   "execution_count": null,
   "id": "e75b439d",
   "metadata": {},
   "outputs": [],
   "source": [
    "#Vertical collage\n",
    "\n",
    "collage_vertical = np.vstack((image1,image2))\n",
    "cv2.imshow(\"FinalV\",collage_vertical)\n",
    "cv2.waitKey()\n",
    "cv2.destroyAllWindows()"
   ]
  },
  {
   "cell_type": "code",
   "execution_count": null,
   "id": "6e5c6cee",
   "metadata": {},
   "outputs": [],
   "source": []
  }
 ],
 "metadata": {
  "kernelspec": {
   "display_name": "Python 3",
   "language": "python",
   "name": "python3"
  },
  "language_info": {
   "codemirror_mode": {
    "name": "ipython",
    "version": 3
   },
   "file_extension": ".py",
   "mimetype": "text/x-python",
   "name": "python",
   "nbconvert_exporter": "python",
   "pygments_lexer": "ipython3",
   "version": "3.8.8"
  }
 },
 "nbformat": 4,
 "nbformat_minor": 5
}
